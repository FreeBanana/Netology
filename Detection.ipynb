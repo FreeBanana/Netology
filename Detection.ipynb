{
 "cells": [
  {
   "cell_type": "code",
   "execution_count": 1,
   "id": "8aeeff45",
   "metadata": {},
   "outputs": [],
   "source": [
    "%matplotlib inline\n",
    "import cv2\n",
    "import numpy as np\n",
    "import matplotlib.pyplot as plt\n",
    "import tensorflow as tf"
   ]
  },
  {
   "cell_type": "code",
   "execution_count": 2,
   "id": "a5cf6da5",
   "metadata": {},
   "outputs": [],
   "source": [
    "def loadBinData( img_rows, img_cols ,num_classes, f_trn_x , f_trn_y , f_tst_x , f_tst_y ):\n",
    "    print('Загрузка данных из двоичных файлов...')\n",
    "    with open(f_trn_x) as read_binary:\n",
    "        x_trn = np.fromfile(read_binary, dtype = np.uint8)\n",
    "    with open(f_trn_y) as read_binary:\n",
    "        y_trn = np.fromfile(read_binary, dtype = np.uint8)\n",
    "    with open(f_tst_x) as read_binary:\n",
    "        x_tst = np.fromfile(read_binary, dtype = np.uint8)\n",
    "    with open(f_tst_y) as read_binary:\n",
    "        y_tst = np.fromfile(read_binary, dtype = np.uint8)\n",
    "    # Преобразование целочисленных данных в float32 и нормализация; данные лежат в диапазоне [0.0, 1.0]\n",
    "    x_trn = np.array(x_trn, dtype = 'float32') / 255\n",
    "    x_tst = np.array(x_tst, dtype = 'float32') / 255\n",
    "    \n",
    "    x_trn = x_trn.reshape((-1, img_rows * img_cols))\n",
    "    x_tst = x_tst.reshape((-1, img_rows * img_cols))\n",
    "    \n",
    "    return x_trn, y_trn, x_tst, y_tst\n",
    "\n",
    "def show_x(x, y, img_rows, img_cols, N):\n",
    "    n = int(np.sqrt(N))\n",
    "    for i, j  in enumerate(np.random.randint(len(x), size = n*n)):\n",
    "        plt.subplot(n, n, i + 1)\n",
    "        img = x[j]\n",
    "        plt.imshow(img, cmap = 'gray')\n",
    "        plt.title(y[j])\n",
    "        plt.axis('off')\n",
    "    plt.subplots_adjust(hspace = 0.5)\n",
    "    plt.show()"
   ]
  },
  {
   "cell_type": "code",
   "execution_count": 3,
   "id": "b5884d4f",
   "metadata": {},
   "outputs": [
    {
     "name": "stdout",
     "output_type": "stream",
     "text": [
      "Загрузка данных из двоичных файлов...\n"
     ]
    }
   ],
   "source": [
    "num_classes = 10\n",
    "img_rows = img_cols = 28\n",
    "x_trn, y_trn, x_tst, y_tst = loadBinData( img_rows, img_cols , num_classes\n",
    "                                          ,\"images_trn.bin\", \"labels_trn.bin\", \"images_tst.bin\" , \"labels_tst.bin\"  )"
   ]
  },
  {
   "cell_type": "code",
   "execution_count": 4,
   "id": "61ac686e",
   "metadata": {},
   "outputs": [],
   "source": [
    "x_trn = x_trn.reshape((60000 ,img_rows , img_cols))\n",
    "x_tst = x_tst.reshape(( 10000,img_rows , img_cols))"
   ]
  },
  {
   "cell_type": "code",
   "execution_count": 5,
   "id": "5db6c804",
   "metadata": {},
   "outputs": [
    {
     "data": {
      "image/png": "[encoded data removed]",
      "text/plain": [
       "<Figure size 640x480 with 9 Axes>"
      ]
     },
     "metadata": {},
     "output_type": "display_data"
    }
   ],
   "source": [
    "show_x(x_trn, y_trn, img_rows, img_cols, 10)"
   ]
  },
  {
   "cell_type": "code",
   "execution_count": 6,
   "id": "430c6edc",
   "metadata": {},
   "outputs": [],
   "source": [
    "y_trnc = tf.keras.utils.to_categorical(y_trn, num_classes)#массив, колво классов    \n",
    "y_tstc = tf.keras.utils.to_categorical(y_tst, num_classes)#массив, колво классов"
   ]
  },
  {
   "cell_type": "code",
   "execution_count": 7,
   "id": "4329d089",
   "metadata": {},
   "outputs": [],
   "source": [
    "from sklearn.decomposition import PCA\n",
    "pca = PCA(100)\n",
    "conv_xtrn = pca.fit_transform(x_trn.reshape(60000, 784))\n",
    "conv_xtst = pca.transform(x_tst.reshape(10000, 784))"
   ]
  },
  {
   "cell_type": "code",
   "execution_count": 8,
   "id": "36ace55a",
   "metadata": {},
   "outputs": [
    {
     "name": "stdout",
     "output_type": "stream",
     "text": [
      "Model: \"model\"\n",
      "_________________________________________________________________\n",
      " Layer (type)                Output Shape              Param #   \n",
      "=================================================================\n",
      " input_1 (InputLayer)        [(None, 100)]             0         \n",
      "                                                                 \n",
      " dense (Dense)               (None, 64)                6464      \n",
      "                                                                 \n",
      " dropout (Dropout)           (None, 64)                0         \n",
      "                                                                 \n",
      " batch_normalization (BatchN  (None, 64)               256       \n",
      " ormalization)                                                   \n",
      "                                                                 \n",
      " dense_1 (Dense)             (None, 32)                2080      \n",
      "                                                                 \n",
      " batch_normalization_1 (Batc  (None, 32)               128       \n",
      " hNormalization)                                                 \n",
      "                                                                 \n",
      " dropout_1 (Dropout)         (None, 32)                0         \n",
      "                                                                 \n",
      " dense_2 (Dense)             (None, 16)                528       \n",
      "                                                                 \n",
      " dense_3 (Dense)             (None, 10)                170       \n",
      "                                                                 \n",
      "=================================================================\n",
      "Total params: 9,626\n",
      "Trainable params: 9,434\n",
      "Non-trainable params: 192\n",
      "_________________________________________________________________\n",
      "Epoch 1/10\n",
      "469/469 [==============================] - 3s 4ms/step - loss: 0.0522 - accuracy: 0.5980 - val_loss: 0.0149 - val_accuracy: 0.9003\n",
      "Epoch 2/10\n",
      "469/469 [==============================] - 1s 3ms/step - loss: 0.0243 - accuracy: 0.8392 - val_loss: 0.0117 - val_accuracy: 0.9225\n",
      "Epoch 3/10\n",
      "469/469 [==============================] - 1s 3ms/step - loss: 0.0195 - accuracy: 0.8711 - val_loss: 0.0104 - val_accuracy: 0.9319\n",
      "Epoch 4/10\n",
      "469/469 [==============================] - 1s 3ms/step - loss: 0.0172 - accuracy: 0.8882 - val_loss: 0.0094 - val_accuracy: 0.9386\n",
      "Epoch 5/10\n",
      "469/469 [==============================] - 1s 3ms/step - loss: 0.0158 - accuracy: 0.8967 - val_loss: 0.0086 - val_accuracy: 0.9446\n",
      "Epoch 6/10\n",
      "469/469 [==============================] - 1s 3ms/step - loss: 0.0148 - accuracy: 0.9046 - val_loss: 0.0082 - val_accuracy: 0.9472\n",
      "Epoch 7/10\n",
      "469/469 [==============================] - 1s 3ms/step - loss: 0.0137 - accuracy: 0.9122 - val_loss: 0.0078 - val_accuracy: 0.9494\n",
      "Epoch 8/10\n",
      "469/469 [==============================] - 2s 3ms/step - loss: 0.0133 - accuracy: 0.9157 - val_loss: 0.0076 - val_accuracy: 0.9511\n",
      "Epoch 9/10\n",
      "469/469 [==============================] - 1s 3ms/step - loss: 0.0129 - accuracy: 0.9169 - val_loss: 0.0072 - val_accuracy: 0.9535\n",
      "Epoch 10/10\n",
      "469/469 [==============================] - 1s 3ms/step - loss: 0.0123 - accuracy: 0.9206 - val_loss: 0.0069 - val_accuracy: 0.9563\n"
     ]
    }
   ],
   "source": [
    "import keras # Создание модели нейронной сети\n",
    "from keras.models import Model\n",
    "from keras.layers import Input, Dense, Dropout, BatchNormalization\n",
    "\n",
    "inp = Input(shape = (100))\n",
    "x = Dense(units = 64, activation = 'relu')(inp)\n",
    "x = Dropout(0.4)(x)\n",
    "x = BatchNormalization()(x)\n",
    "x = Dense(units = 32, activation = 'relu')(x) \n",
    "x = BatchNormalization()(x)\n",
    "x = Dropout(0.4)(x)\n",
    "x = Dense(units = 16, activation = 'relu')(x) \n",
    "output = Dense(num_classes, activation = 'softmax')(x) \n",
    "model = Model(inputs = inp, outputs = output)\n",
    "model.summary() #показать мдель\n",
    "model.compile(optimizer = 'Adam', loss = 'mse', metrics = ['accuracy']) \n",
    "history = model.fit(conv_xtrn, y_trnc, batch_size = 128, epochs = 10,\n",
    "                    verbose = 1, validation_data = (conv_xtst, y_tstc))"
   ]
  },
  {
   "cell_type": "code",
   "execution_count": 10,
   "id": "11d3d6db",
   "metadata": {},
   "outputs": [
    {
     "name": "stdout",
     "output_type": "stream",
     "text": [
      "313/313 [==============================] - 0s 1ms/step\n",
      "              precision    recall  f1-score   support\n",
      "\n",
      "           0       0.96      0.98      0.97       980\n",
      "           1       0.97      0.99      0.98      1135\n",
      "           2       0.95      0.95      0.95      1032\n",
      "           3       0.94      0.95      0.95      1010\n",
      "           4       0.96      0.96      0.96       982\n",
      "           5       0.95      0.91      0.93       892\n",
      "           6       0.94      0.98      0.96       958\n",
      "           7       0.96      0.96      0.96      1028\n",
      "           8       0.95      0.94      0.95       974\n",
      "           9       0.96      0.93      0.95      1009\n",
      "\n",
      "    accuracy                           0.96     10000\n",
      "   macro avg       0.96      0.96      0.96     10000\n",
      "weighted avg       0.96      0.96      0.96     10000\n",
      "\n"
     ]
    }
   ],
   "source": [
    "from sklearn.metrics import classification_report\n",
    "y_pred = model.predict(conv_xtst)\n",
    "y_pred = np.argmax(y_pred, axis=-1)\n",
    "print(classification_report(y_tst, y_pred))"
   ]
  },
  {
   "cell_type": "code",
   "execution_count": 19,
   "id": "125c582e",
   "metadata": {},
   "outputs": [
    {
     "name": "stdout",
     "output_type": "stream",
     "text": [
      "              precision    recall  f1-score   support\n",
      "\n",
      "           0       0.89      0.83      0.86       980\n",
      "           1       0.97      0.93      0.95      1135\n",
      "           2       0.83      0.73      0.78      1032\n",
      "           3       0.78      0.78      0.78      1010\n",
      "           4       0.80      0.77      0.78       982\n",
      "           5       0.70      0.67      0.69       892\n",
      "           6       0.87      0.84      0.86       958\n",
      "           7       0.88      0.83      0.85      1028\n",
      "           8       0.59      0.79      0.67       974\n",
      "           9       0.73      0.78      0.75      1009\n",
      "\n",
      "    accuracy                           0.80     10000\n",
      "   macro avg       0.80      0.80      0.80     10000\n",
      "weighted avg       0.81      0.80      0.80     10000\n",
      "\n"
     ]
    }
   ],
   "source": [
    "from sklearn.tree import DecisionTreeClassifier\n",
    "tree = DecisionTreeClassifier(max_depth = 10)\n",
    "tree.fit(conv_xtrn, y_trn)\n",
    "print(classification_report(y_tst, tree.predict(conv_xtst)))"
   ]
  },
  {
   "cell_type": "markdown",
   "id": "7d08b746",
   "metadata": {},
   "source": [
    "# Я не смог ничего загрузить на каггл из-за ограничений по российским аккаунтам, поэтому вывел все метрики здесь."
   ]
  },
  {
   "cell_type": "code",
   "execution_count": null,
   "id": "ef50beb7",
   "metadata": {},
   "outputs": [],
   "source": []
  }
 ],
 "metadata": {
  "kernelspec": {
   "display_name": "Python 3 (ipykernel)",
   "language": "python",
   "name": "python3"
  },
  "language_info": {
   "codemirror_mode": {
    "name": "ipython",
    "version": 3
   },
   "file_extension": ".py",
   "mimetype": "text/x-python",
   "name": "python",
   "nbconvert_exporter": "python",
   "pygments_lexer": "ipython3",
   "version": "3.9.7"
  }
 },
 "nbformat": 4,
 "nbformat_minor": 5
}
