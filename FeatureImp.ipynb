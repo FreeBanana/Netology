{
 "cells": [
  {
   "cell_type": "code",
   "execution_count": 22,
   "id": "6986e375",
   "metadata": {},
   "outputs": [],
   "source": [
    "from sklearn.datasets import make_classification\n",
    "import seaborn as sns\n",
    "import pandas as pd\n",
    "import numpy as np\n",
    "from sklearn.feature_selection import SelectKBest\n",
    "from sklearn.feature_selection import VarianceThreshold\n",
    "from sklearn.model_selection import cross_val_score\n",
    "from sklearn.linear_model import LogisticRegression\n",
    "from sklearn.feature_selection import f_classif\n",
    "from sklearn.feature_selection import SelectFromModel\n",
    "from sklearn.ensemble import RandomForestClassifier\n",
    "from sklearn.feature_selection import SequentialFeatureSelector\n",
    "from sklearn.neighbors import KNeighborsClassifier"
   ]
  },
  {
   "cell_type": "markdown",
   "id": "c6d58b77",
   "metadata": {},
   "source": [
    "## Сгенерируйте данные с помощью кода:\n",
    "### from sklearn.datasets import make_classification\n",
    "### x_data_generated, y_data_generated = make_classification(scale=1)"
   ]
  },
  {
   "cell_type": "code",
   "execution_count": 3,
   "id": "9e851ce4",
   "metadata": {},
   "outputs": [],
   "source": [
    "x, y = make_classification(scale=1)"
   ]
  },
  {
   "cell_type": "markdown",
   "id": "9df9716f",
   "metadata": {},
   "source": [
    "## Постройте модель логистической регрессии и оцените среднюю точность. Для этого используйте следующий код:\n",
    "### cross_val_score(LogisticRegression(), x, y, scoring=‘accuracy’).mean()"
   ]
  },
  {
   "cell_type": "code",
   "execution_count": 4,
   "id": "7b93be14",
   "metadata": {},
   "outputs": [
    {
     "data": {
      "text/plain": [
       "0.8300000000000001"
      ]
     },
     "execution_count": 4,
     "metadata": {},
     "output_type": "execute_result"
    }
   ],
   "source": [
    "cross_val_score(LogisticRegression(), x, y, scoring='accuracy').mean()"
   ]
  },
  {
   "cell_type": "markdown",
   "id": "af2f44cb",
   "metadata": {},
   "source": [
    "## Используйте статистические методы для отбора признаков:\n",
    "### a) Выберите признаки на основе матрицы корреляции.\n",
    "### b) Отсеките низковариативные признаки (VarianceThreshold).\n",
    "### c) Повторите п. 2 на отобранных признаках в п. 3a, п. 3b."
   ]
  },
  {
   "cell_type": "code",
   "execution_count": 5,
   "id": "73c97282",
   "metadata": {},
   "outputs": [
    {
     "data": {
      "text/plain": [
       "<AxesSubplot:>"
      ]
     },
     "execution_count": 5,
     "metadata": {},
     "output_type": "execute_result"
    },
    {
     "data": {
      "image/png": "[encoded data removed]",
      "text/plain": [
       "<Figure size 432x288 with 2 Axes>"
      ]
     },
     "metadata": {
      "needs_background": "light"
     },
     "output_type": "display_data"
    }
   ],
   "source": [
    "sns.heatmap(pd.DataFrame(x.tolist()).corr())"
   ]
  },
  {
   "cell_type": "markdown",
   "id": "e2c89410",
   "metadata": {},
   "source": [
    "### Откидываем: 6, 15, 9, 3, 19, 18"
   ]
  },
  {
   "cell_type": "code",
   "execution_count": 48,
   "id": "d74a0f53",
   "metadata": {},
   "outputs": [
    {
     "name": "stdout",
     "output_type": "stream",
     "text": [
      "0.85\n",
      "14\n"
     ]
    }
   ],
   "source": [
    "x1 = pd.DataFrame(x.tolist()).drop(labels = [6, 15, 9, 3, 19, 18], axis = 1)\n",
    "print(cross_val_score(LogisticRegression(), x1, y, scoring='accuracy').mean())\n",
    "print(20 - len([6, 15, 9, 3, 19, 18]))"
   ]
  },
  {
   "cell_type": "code",
   "execution_count": 46,
   "id": "2985c2cc",
   "metadata": {},
   "outputs": [
    {
     "name": "stdout",
     "output_type": "stream",
     "text": [
      "0.89\n"
     ]
    },
    {
     "data": {
      "text/plain": [
       "2"
      ]
     },
     "execution_count": 46,
     "metadata": {},
     "output_type": "execute_result"
    }
   ],
   "source": [
    "selector = VarianceThreshold(threshold=1.2)\n",
    "print(cross_val_score(LogisticRegression(), selector.fit_transform(x), y, scoring='accuracy').mean())\n",
    "len(selector.fit_transform(x)[0])"
   ]
  },
  {
   "cell_type": "markdown",
   "id": "f00196b3",
   "metadata": {},
   "source": [
    "## Осуществите отбор признаков на основе дисперсионного анализа:\n",
    "### a) Выберите 5 лучших признаков с помощью скоринговой функции для классификации f_classif (SelectKBest(f_classif, k=5)).\n",
    "### b) Повторите п. 2 на отобранных признаках."
   ]
  },
  {
   "cell_type": "code",
   "execution_count": 42,
   "id": "912c31be",
   "metadata": {},
   "outputs": [
    {
     "name": "stdout",
     "output_type": "stream",
     "text": [
      "0.8800000000000001\n"
     ]
    },
    {
     "data": {
      "text/plain": [
       "5"
      ]
     },
     "execution_count": 42,
     "metadata": {},
     "output_type": "execute_result"
    }
   ],
   "source": [
    "selector = (SelectKBest(f_classif, k=5))\n",
    "print(cross_val_score(LogisticRegression(), selector.fit_transform(x, y), y, scoring='accuracy').mean())\n",
    "len(selector.fit_transform(x, y)[0])"
   ]
  },
  {
   "cell_type": "markdown",
   "id": "f9de2ee8",
   "metadata": {},
   "source": [
    "## Отбор с использованием моделей:\n",
    "### a) Реализуйте отбор признаков с помощью логистической регрессии. Отобранные признаки подайте далее на вход в саму логистическую регрессию (SelectFromModel). Используйте L1 регуляризацию.\n",
    "### b) Реализуйте отбор признаков с помощью модели RandomForest и встроенного атрибута feature_impotance.\n",
    "### c) Повторите п. 2 на отобранных признаках в п. 5a, п. 5b.\n",
    "## Перебор признаков:\n",
    "### a) SequentialFeatureSelector.\n",
    "### b) Повторите п. 2 на отобранных признаках."
   ]
  },
  {
   "cell_type": "code",
   "execution_count": 80,
   "id": "468980d1",
   "metadata": {},
   "outputs": [
    {
     "name": "stdout",
     "output_type": "stream",
     "text": [
      "0.75\n"
     ]
    },
    {
     "data": {
      "text/plain": [
       "12"
      ]
     },
     "execution_count": 80,
     "metadata": {},
     "output_type": "execute_result"
    }
   ],
   "source": [
    "selector = LogisticRegression(penalty = 'l1', tol = 0.005, solver = \"saga\").fit(x, y)\n",
    "col = []\n",
    "k = 0\n",
    "for i in selector.coef_[0]:\n",
    "    if i != 0.0:\n",
    "        col.append(k)\n",
    "    k += 1\n",
    "x1 = pd.DataFrame(x.tolist()).drop(labels = col, axis = 1)\n",
    "print(cross_val_score(LogisticRegression(), x1, y, scoring='accuracy').mean())\n",
    "len(col)"
   ]
  },
  {
   "cell_type": "code",
   "execution_count": 20,
   "id": "56fce940",
   "metadata": {},
   "outputs": [
    {
     "name": "stdout",
     "output_type": "stream",
     "text": [
      "0.9\n"
     ]
    },
    {
     "data": {
      "text/plain": [
       "array([0.03980655, 0.0147037 , 0.01791207, 0.03114814, 0.01863806,\n",
       "       0.23349692, 0.31158795, 0.01798843, 0.03210932, 0.04458554,\n",
       "       0.02643177, 0.01383749, 0.01689871, 0.02346615, 0.01262885,\n",
       "       0.04325649, 0.01549918, 0.03972971, 0.02926959, 0.01700536])"
      ]
     },
     "execution_count": 20,
     "metadata": {},
     "output_type": "execute_result"
    }
   ],
   "source": [
    "selector = RandomForestClassifier().fit(x, y)\n",
    "x1 = pd.DataFrame(x.tolist())[[5, 6]]\n",
    "print(cross_val_score(LogisticRegression(), x1, y, scoring='accuracy').mean())\n",
    "selector.feature_importances_"
   ]
  },
  {
   "cell_type": "code",
   "execution_count": 36,
   "id": "c70919f5",
   "metadata": {},
   "outputs": [
    {
     "name": "stdout",
     "output_type": "stream",
     "text": [
      "0.9099999999999999\n"
     ]
    },
    {
     "data": {
      "text/plain": [
       "array([False, False, False, False, False,  True, False, False, False,\n",
       "       False, False, False, False, False, False, False, False, False,\n",
       "       False, False])"
      ]
     },
     "execution_count": 36,
     "metadata": {},
     "output_type": "execute_result"
    }
   ],
   "source": [
    "knn = KNeighborsClassifier(n_neighbors=3)\n",
    "sfs = SequentialFeatureSelector(knn, n_features_to_select=1).fit(x, y)\n",
    "print(cross_val_score(LogisticRegression(), sfs.transform(x), y, scoring='accuracy').mean())\n",
    "sfs.get_support()"
   ]
  },
  {
   "cell_type": "markdown",
   "id": "6c32a66c",
   "metadata": {},
   "source": [
    "## Сформулируйте выводы по проделанной работе:\n",
    "### a) Сделайте таблицу вида |способ выбора признаков|количество признаков|средняя точность модели|."
   ]
  },
  {
   "cell_type": "code",
   "execution_count": 85,
   "id": "ebe20f3d",
   "metadata": {},
   "outputs": [
    {
     "data": {
      "text/html": [
       "<div>\n",
       "<style scoped>\n",
       "    .dataframe tbody tr th:only-of-type {\n",
       "        vertical-align: middle;\n",
       "    }\n",
       "\n",
       "    .dataframe tbody tr th {\n",
       "        vertical-align: top;\n",
       "    }\n",
       "\n",
       "    .dataframe thead th {\n",
       "        text-align: right;\n",
       "    }\n",
       "</style>\n",
       "<table border=\"1\" class=\"dataframe\">\n",
       "  <thead>\n",
       "    <tr style=\"text-align: right;\">\n",
       "      <th></th>\n",
       "      <th>Cпособ выбора признаков</th>\n",
       "      <th>Количество признаков</th>\n",
       "      <th>Средняя точность модели</th>\n",
       "    </tr>\n",
       "  </thead>\n",
       "  <tbody>\n",
       "    <tr>\n",
       "      <th>0</th>\n",
       "      <td>Матрица корелляции</td>\n",
       "      <td>14</td>\n",
       "      <td>0.85</td>\n",
       "    </tr>\n",
       "    <tr>\n",
       "      <th>1</th>\n",
       "      <td>VarianceThreshold</td>\n",
       "      <td>2</td>\n",
       "      <td>0.89</td>\n",
       "    </tr>\n",
       "    <tr>\n",
       "      <th>2</th>\n",
       "      <td>f_classif</td>\n",
       "      <td>5</td>\n",
       "      <td>0.88</td>\n",
       "    </tr>\n",
       "    <tr>\n",
       "      <th>3</th>\n",
       "      <td>L1 регуляризация</td>\n",
       "      <td>12</td>\n",
       "      <td>0.75</td>\n",
       "    </tr>\n",
       "    <tr>\n",
       "      <th>4</th>\n",
       "      <td>RandomForest</td>\n",
       "      <td>2</td>\n",
       "      <td>0.90</td>\n",
       "    </tr>\n",
       "    <tr>\n",
       "      <th>5</th>\n",
       "      <td>SequentialFeatureSelector</td>\n",
       "      <td>1</td>\n",
       "      <td>0.91</td>\n",
       "    </tr>\n",
       "  </tbody>\n",
       "</table>\n",
       "</div>"
      ],
      "text/plain": [
       "     Cпособ выбора признаков  Количество признаков  Средняя точность модели\n",
       "0         Матрица корелляции                    14                     0.85\n",
       "1          VarianceThreshold                     2                     0.89\n",
       "2                  f_classif                     5                     0.88\n",
       "3           L1 регуляризация                    12                     0.75\n",
       "4               RandomForest                     2                     0.90\n",
       "5  SequentialFeatureSelector                     1                     0.91"
      ]
     },
     "execution_count": 85,
     "metadata": {},
     "output_type": "execute_result"
    }
   ],
   "source": [
    "data = {'Cпособ выбора признаков': ['Матрица корелляции', 'VarianceThreshold', 'f_classif', 'L1 регуляризация', \n",
    "                                    'RandomForest', 'SequentialFeatureSelector'], \n",
    "        'Количество признаков': [14, 2, 5, 12, 2, 1], \n",
    "        'Средняя точность модели': [0.85, 0.89, 0.88, 0.75, 0.9, 0.91]} \n",
    "df = pd.DataFrame(data) \n",
    "df.head(6)"
   ]
  }
 ],
 "metadata": {
  "kernelspec": {
   "display_name": "Python 3 (ipykernel)",
   "language": "python",
   "name": "python3"
  },
  "language_info": {
   "codemirror_mode": {
    "name": "ipython",
    "version": 3
   },
   "file_extension": ".py",
   "mimetype": "text/x-python",
   "name": "python",
   "nbconvert_exporter": "python",
   "pygments_lexer": "ipython3",
   "version": "3.9.7"
  }
 },
 "nbformat": 4,
 "nbformat_minor": 5
}
