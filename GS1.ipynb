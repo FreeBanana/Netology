{
 "cells": [
  {
   "cell_type": "code",
   "execution_count": 1,
   "id": "092a4b5c",
   "metadata": {},
   "outputs": [],
   "source": [
    "import pandas as pd\n",
    "import matplotlib.pyplot as plt\n",
    "from sklearn.preprocessing import LabelEncoder\n",
    "from sklearn.svm import SVC\n",
    "from sklearn.model_selection import train_test_split \n",
    "from sklearn.pipeline import make_pipeline\n",
    "from sklearn.preprocessing import StandardScaler\n",
    "import numpy as np"
   ]
  },
  {
   "cell_type": "code",
   "execution_count": 2,
   "id": "60e4f679",
   "metadata": {},
   "outputs": [
    {
     "name": "stdout",
     "output_type": "stream",
     "text": [
      "['Iris-setosa' 'Iris-versicolor' 'Iris-virginica']\n"
     ]
    },
    {
     "data": {
      "text/html": [
       "<div>\n",
       "<style scoped>\n",
       "    .dataframe tbody tr th:only-of-type {\n",
       "        vertical-align: middle;\n",
       "    }\n",
       "\n",
       "    .dataframe tbody tr th {\n",
       "        vertical-align: top;\n",
       "    }\n",
       "\n",
       "    .dataframe thead th {\n",
       "        text-align: right;\n",
       "    }\n",
       "</style>\n",
       "<table border=\"1\" class=\"dataframe\">\n",
       "  <thead>\n",
       "    <tr style=\"text-align: right;\">\n",
       "      <th></th>\n",
       "      <th>SepalLengthCm</th>\n",
       "      <th>SepalWidthCm</th>\n",
       "      <th>PetalLengthCm</th>\n",
       "      <th>PetalWidthCm</th>\n",
       "      <th>Species</th>\n",
       "    </tr>\n",
       "  </thead>\n",
       "  <tbody>\n",
       "    <tr>\n",
       "      <th>0</th>\n",
       "      <td>5.1</td>\n",
       "      <td>3.5</td>\n",
       "      <td>1.4</td>\n",
       "      <td>0.2</td>\n",
       "      <td>Iris-setosa</td>\n",
       "    </tr>\n",
       "    <tr>\n",
       "      <th>1</th>\n",
       "      <td>4.9</td>\n",
       "      <td>3.0</td>\n",
       "      <td>1.4</td>\n",
       "      <td>0.2</td>\n",
       "      <td>Iris-setosa</td>\n",
       "    </tr>\n",
       "    <tr>\n",
       "      <th>2</th>\n",
       "      <td>4.7</td>\n",
       "      <td>3.2</td>\n",
       "      <td>1.3</td>\n",
       "      <td>0.2</td>\n",
       "      <td>Iris-setosa</td>\n",
       "    </tr>\n",
       "    <tr>\n",
       "      <th>3</th>\n",
       "      <td>4.6</td>\n",
       "      <td>3.1</td>\n",
       "      <td>1.5</td>\n",
       "      <td>0.2</td>\n",
       "      <td>Iris-setosa</td>\n",
       "    </tr>\n",
       "    <tr>\n",
       "      <th>4</th>\n",
       "      <td>5.0</td>\n",
       "      <td>3.6</td>\n",
       "      <td>1.4</td>\n",
       "      <td>0.2</td>\n",
       "      <td>Iris-setosa</td>\n",
       "    </tr>\n",
       "  </tbody>\n",
       "</table>\n",
       "</div>"
      ],
      "text/plain": [
       "   SepalLengthCm  SepalWidthCm  PetalLengthCm  PetalWidthCm      Species\n",
       "0            5.1           3.5            1.4           0.2  Iris-setosa\n",
       "1            4.9           3.0            1.4           0.2  Iris-setosa\n",
       "2            4.7           3.2            1.3           0.2  Iris-setosa\n",
       "3            4.6           3.1            1.5           0.2  Iris-setosa\n",
       "4            5.0           3.6            1.4           0.2  Iris-setosa"
      ]
     },
     "execution_count": 2,
     "metadata": {},
     "output_type": "execute_result"
    }
   ],
   "source": [
    "data = pd.read_csv('Iris.csv')\n",
    "data.head()\n",
    "del data['Id']\n",
    "print(data['Species'].unique())\n",
    "data.head()"
   ]
  },
  {
   "cell_type": "code",
   "execution_count": 3,
   "id": "065c8ea4",
   "metadata": {},
   "outputs": [],
   "source": [
    "data = data.drop(data[data['Species'] == 'Iris-setosa'].index)\n",
    "data = data.set_index(np.arange(len(data)))\n",
    "Y = data['Species'].to_numpy()\n",
    "X = data[['SepalLengthCm', 'SepalWidthCm', 'PetalLengthCm', 'PetalWidthCm']].to_numpy()"
   ]
  },
  {
   "cell_type": "code",
   "execution_count": 4,
   "id": "01cbafd0",
   "metadata": {},
   "outputs": [],
   "source": [
    "for i in range(len(Y)):\n",
    "    if Y[i] == 'Iris-versicolor':\n",
    "        Y[i] = 0\n",
    "    else:\n",
    "        Y[i] = 1"
   ]
  },
  {
   "cell_type": "code",
   "execution_count": 5,
   "id": "56055688",
   "metadata": {},
   "outputs": [],
   "source": [
    "Y = Y.astype(\"float\")\n",
    "X = X.astype(\"float\")"
   ]
  },
  {
   "cell_type": "code",
   "execution_count": 93,
   "id": "c7579fba",
   "metadata": {},
   "outputs": [],
   "source": [
    "class LR:\n",
    "    def __init__(self):\n",
    "        self.t = np.array([1.0, 1.0, 1.0, 1.0])\n",
    "        self.b = 1\n",
    "        self.success = False\n",
    "        self.coef_ = [1.0, 1.0, 1.0, 1.0, 1.0]\n",
    "    def H(self, x):\n",
    "        return 1 / (1 + np.exp(-np.dot(x, self.t) - self.b))\n",
    "    def N1(self, x, t0, b):\n",
    "        return 1 / (1 + np.exp(-np.dot(x, t0 + b * (self.t - t0)) - self.b))\n",
    "    def N2(self, x, b0, b):\n",
    "        return 1 / (1 + np.exp(-np.dot(x, self.t) - (b0 + b * (self.b - b0))))\n",
    "    def LosF(self, x, y):\n",
    "        total = 0\n",
    "        for i in range(len(x)):\n",
    "            total += y[i] * np.log(self.H(x[i])) + (1 - y[i]) * np.log(self.H(x[i]))\n",
    "        return -total / len(x)\n",
    "    def __Derivative1(self, x, y):\n",
    "        total1 = 1\n",
    "        total0 = 1\n",
    "        for i in range(len(x)):\n",
    "            total1 += (self.H(x[i]) - y[i]) * x[i]\n",
    "            total0 += (self.H(x[i]) - y[i])\n",
    "        ans = [total0 / len(x), total1 / len(x)]\n",
    "        return ans\n",
    "    def __Derivative2(self, x, y, t0, b0, b):\n",
    "        total1 = 1\n",
    "        total0 = 1\n",
    "        for i in range(len(x)):\n",
    "            total1 += (self.N1(x[i], t0, b) - y[i]) * x[i]\n",
    "            total0 += (self.N2(x[i], b0, b) - y[i])\n",
    "        ans = [total0 / len(x), total1 / len(x)]\n",
    "        return ans\n",
    "    def fittg(self, x, y, choise = False):\n",
    "        los = []\n",
    "        for _ in range(2000):\n",
    "            self.t -= 0.1 * self.__Derivative1(x, y)[1]\n",
    "            self.b -= 0.1 * self.__Derivative1(x, y)[0]\n",
    "            if choise:\n",
    "                los.append(self.LosF(x, y))\n",
    "        if choise:\n",
    "            plt.plot(range(2000), los)\n",
    "        self.coef_ = np.insert(self.t, 0, self.b)\n",
    "        self.success = True\n",
    "    def fittn(self, x, y, choise = False, b = 0.5):\n",
    "        los = []\n",
    "        t0 = 0.5\n",
    "        b0 = 0.5\n",
    "        for _ in range(2000):\n",
    "            t1 = self.t\n",
    "            b1 = self.b\n",
    "            self.t = self.t - 0.1 * self.__Derivative2(x, y, t0, b0, b)[1] + b * (self.t - t0)\n",
    "            self.b = self.b - 0.1 * self.__Derivative2(x, y, t0, b0, b)[0] + b * (self.b - b0)\n",
    "            t0 = t1\n",
    "            b0 = b1\n",
    "            if choise:\n",
    "                los.append(self.LosF(x, y))\n",
    "        if choise:\n",
    "            plt.plot(range(2000), los)\n",
    "        self.coef_ = np.insert(self.t, 0, self.b)\n",
    "        self.success = True\n",
    "    def predict(self, x):\n",
    "        ch = self.H(x)\n",
    "        for i in range(len(x)):\n",
    "            if ch[i] < 0.5:\n",
    "                ch[i] = 0\n",
    "            else:\n",
    "                ch[i] = 1\n",
    "        return ch\n",
    "    def score(self, yt, y):\n",
    "        positive = 0\n",
    "        for i in range(len(yt)):\n",
    "            if yt[i] == y[i]:\n",
    "                positive += 1\n",
    "        return positive / len(yt)"
   ]
  },
  {
   "cell_type": "code",
   "execution_count": 94,
   "id": "4580ec09",
   "metadata": {},
   "outputs": [
    {
     "name": "stdout",
     "output_type": "stream",
     "text": [
      "[-2.61508546 -3.07204747  4.40632733  3.95793327]\n",
      "0.98\n"
     ]
    },
    {
     "data": {
      "image/png": "[encoded data removed]",
      "text/plain": [
       "<Figure size 432x288 with 1 Axes>"
      ]
     },
     "metadata": {
      "needs_background": "light"
     },
     "output_type": "display_data"
    }
   ],
   "source": [
    "model0 = LR()\n",
    "model0.fittg(X, Y, True)\n",
    "pr = model0.predict(X)\n",
    "print(model0.t)\n",
    "model0.LosF(X, Y)\n",
    "print(model0.score(pr, Y))"
   ]
  },
  {
   "cell_type": "code",
   "execution_count": 95,
   "id": "67ba0739",
   "metadata": {},
   "outputs": [
    {
     "data": {
      "text/plain": [
       "array([0., 0., 0., 0., 0., 0., 0., 0., 0., 0., 0., 0., 0., 0., 0., 0., 0.,\n",
       "       0., 0., 0., 0., 0., 1., 0., 0., 0., 0., 0., 0., 0., 0., 0., 0., 1.,\n",
       "       0., 0., 0., 0., 0., 0., 0., 0., 0., 0., 0., 0., 0., 0., 0., 0., 1.,\n",
       "       1., 1., 1., 1., 1., 1., 1., 1., 1., 1., 1., 1., 1., 1., 1., 1., 1.,\n",
       "       1., 1., 1., 1., 1., 1., 1., 1., 1., 1., 1., 1., 1., 1., 1., 1., 1.,\n",
       "       1., 1., 1., 1., 1., 1., 1., 1., 1., 1., 1., 1., 1., 1., 1.])"
      ]
     },
     "execution_count": 95,
     "metadata": {},
     "output_type": "execute_result"
    }
   ],
   "source": [
    "model0.predict(X)"
   ]
  },
  {
   "cell_type": "code",
   "execution_count": 96,
   "id": "6bbcbee7",
   "metadata": {},
   "outputs": [
    {
     "name": "stdout",
     "output_type": "stream",
     "text": [
      "[-2.85702367 -3.94867703  5.39858605  4.76321325]\n",
      "0.98\n"
     ]
    },
    {
     "data": {
      "image/png": "[encoded data removed]",
      "text/plain": [
       "<Figure size 432x288 with 1 Axes>"
      ]
     },
     "metadata": {
      "needs_background": "light"
     },
     "output_type": "display_data"
    }
   ],
   "source": [
    "model1 = LR()\n",
    "model1.fittn(X, Y, True)\n",
    "pr = model1.predict(X)\n",
    "print(model1.t)\n",
    "model1.LosF(X, Y)\n",
    "print(model1.score(pr, Y))"
   ]
  },
  {
   "cell_type": "code",
   "execution_count": 97,
   "id": "8253518e",
   "metadata": {},
   "outputs": [
    {
     "data": {
      "text/plain": [
       "array([0., 0., 0., 0., 0., 0., 0., 0., 0., 0., 0., 0., 0., 0., 0., 0., 0.,\n",
       "       0., 0., 0., 0., 0., 1., 0., 0., 0., 0., 0., 0., 0., 0., 0., 0., 1.,\n",
       "       0., 0., 0., 0., 0., 0., 0., 0., 0., 0., 0., 0., 0., 0., 0., 0., 1.,\n",
       "       1., 1., 1., 1., 1., 1., 1., 1., 1., 1., 1., 1., 1., 1., 1., 1., 1.,\n",
       "       1., 1., 1., 1., 1., 1., 1., 1., 1., 1., 1., 1., 1., 1., 1., 1., 1.,\n",
       "       1., 1., 1., 1., 1., 1., 1., 1., 1., 1., 1., 1., 1., 1., 1.])"
      ]
     },
     "execution_count": 97,
     "metadata": {},
     "output_type": "execute_result"
    }
   ],
   "source": [
    "model1.predict(X)"
   ]
  },
  {
   "cell_type": "code",
   "execution_count": null,
   "id": "7679fd3a",
   "metadata": {},
   "outputs": [],
   "source": []
  }
 ],
 "metadata": {
  "kernelspec": {
   "display_name": "Python 3 (ipykernel)",
   "language": "python",
   "name": "python3"
  },
  "language_info": {
   "codemirror_mode": {
    "name": "ipython",
    "version": 3
   },
   "file_extension": ".py",
   "mimetype": "text/x-python",
   "name": "python",
   "nbconvert_exporter": "python",
   "pygments_lexer": "ipython3",
   "version": "3.9.7"
  }
 },
 "nbformat": 4,
 "nbformat_minor": 5
}
