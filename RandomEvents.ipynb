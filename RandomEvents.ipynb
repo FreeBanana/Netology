{
 "cells": [
  {
   "cell_type": "code",
   "execution_count": 23,
   "id": "414e7fc7",
   "metadata": {},
   "outputs": [
    {
     "name": "stdout",
     "output_type": "stream",
     "text": [
      "Процент удачных попыток =  18\n",
      "Количество денег в процентах от общей суммы, которое игрок теряет при игре =  24\n"
     ]
    }
   ],
   "source": [
    "import numpy as np\n",
    "trials = 1000000\n",
    "success = 0\n",
    "prize = 0\n",
    "for i in range(trials):\n",
    "    number = np.random.randint(0, 1000)\n",
    "    if number == 777:\n",
    "        success += 1\n",
    "        prize += 200\n",
    "    elif number == 999:\n",
    "        success += 1\n",
    "        prize += 100\n",
    "    elif number == 555:\n",
    "        success += 1\n",
    "        prize += 50\n",
    "    elif number == 333:\n",
    "        success += 1\n",
    "        prize += 15\n",
    "    elif number == 111:\n",
    "        success += 1\n",
    "        prize += 10\n",
    "    elif (number // 100 != 0) and (number % 100 == 77):\n",
    "        success += 1\n",
    "        prize += 5\n",
    "    elif (number // 100 != 0) and (number % 10 == 7):\n",
    "        success += 1\n",
    "        prize += 3\n",
    "    elif (number // 100 != 0) and (number % 100 == 0):\n",
    "        success += 1\n",
    "        prize += 2\n",
    "    elif (number // 100 != 0) and (number % 10 == 0):\n",
    "        success += 1\n",
    "        prize += 1\n",
    "print(\"Процент удачных попыток = \", round(success/trials*100))\n",
    "if (1 - prize/trials) > 0:\n",
    "    print(\"Количество денег в процентах от общей суммы, которое игрок теряет при игре = \", round((1 - prize/trials)*100))\n",
    "else:\n",
    "    print(\"Количество денег в процентах от общей суммы, которое игрок приобретает при игре = \", round((prize/trials - 1)*100))"
   ]
  }
 ],
 "metadata": {
  "kernelspec": {
   "display_name": "Python 3 (ipykernel)",
   "language": "python",
   "name": "python3"
  },
  "language_info": {
   "codemirror_mode": {
    "name": "ipython",
    "version": 3
   },
   "file_extension": ".py",
   "mimetype": "text/x-python",
   "name": "python",
   "nbconvert_exporter": "python",
   "pygments_lexer": "ipython3",
   "version": "3.9.7"
  }
 },
 "nbformat": 4,
 "nbformat_minor": 5
}
