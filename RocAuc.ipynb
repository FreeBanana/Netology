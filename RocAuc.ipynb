{
 "cells": [
  {
   "cell_type": "code",
   "execution_count": 168,
   "id": "6411f53e",
   "metadata": {},
   "outputs": [],
   "source": [
    "import pandas as pd\n",
    "import numpy as np\n",
    "from sklearn.linear_model import LogisticRegression\n",
    "from sklearn.model_selection import train_test_split\n",
    "from sklearn.metrics import precision_recall_curve\n",
    "from sklearn.metrics import roc_curve\n",
    "from sklearn.metrics import roc_auc_score\n",
    "import matplotlib.pyplot as plt\n",
    "from sklearn.preprocessing import LabelEncoder"
   ]
  },
  {
   "cell_type": "markdown",
   "id": "f0bf4f13",
   "metadata": {},
   "source": [
    "## 1) Преобразуйте данные:\n",
    "### a. проверьте наличие пропущенных значений. Преобразуйте/удалите пропуски по необходимости;\n",
    "### b. закодируйте категориальные переменные числовыми значениями по необходимости."
   ]
  },
  {
   "cell_type": "code",
   "execution_count": 169,
   "id": "37516995",
   "metadata": {},
   "outputs": [],
   "source": [
    "data = pd.read_csv('athletes.csv')"
   ]
  },
  {
   "cell_type": "code",
   "execution_count": 170,
   "id": "9b0a5005",
   "metadata": {},
   "outputs": [
    {
     "data": {
      "text/html": [
       "<div>\n",
       "<style scoped>\n",
       "    .dataframe tbody tr th:only-of-type {\n",
       "        vertical-align: middle;\n",
       "    }\n",
       "\n",
       "    .dataframe tbody tr th {\n",
       "        vertical-align: top;\n",
       "    }\n",
       "\n",
       "    .dataframe thead th {\n",
       "        text-align: right;\n",
       "    }\n",
       "</style>\n",
       "<table border=\"1\" class=\"dataframe\">\n",
       "  <thead>\n",
       "    <tr style=\"text-align: right;\">\n",
       "      <th></th>\n",
       "      <th>id</th>\n",
       "      <th>name</th>\n",
       "      <th>nationality</th>\n",
       "      <th>sex</th>\n",
       "      <th>dob</th>\n",
       "      <th>height</th>\n",
       "      <th>weight</th>\n",
       "      <th>sport</th>\n",
       "      <th>gold</th>\n",
       "      <th>silver</th>\n",
       "      <th>bronze</th>\n",
       "    </tr>\n",
       "  </thead>\n",
       "  <tbody>\n",
       "    <tr>\n",
       "      <th>0</th>\n",
       "      <td>736041664</td>\n",
       "      <td>A Jesus Garcia</td>\n",
       "      <td>ESP</td>\n",
       "      <td>male</td>\n",
       "      <td>10/17/69</td>\n",
       "      <td>1.72</td>\n",
       "      <td>64.0</td>\n",
       "      <td>athletics</td>\n",
       "      <td>0</td>\n",
       "      <td>0</td>\n",
       "      <td>0</td>\n",
       "    </tr>\n",
       "    <tr>\n",
       "      <th>1</th>\n",
       "      <td>532037425</td>\n",
       "      <td>A Lam Shin</td>\n",
       "      <td>KOR</td>\n",
       "      <td>female</td>\n",
       "      <td>9/23/86</td>\n",
       "      <td>1.68</td>\n",
       "      <td>56.0</td>\n",
       "      <td>fencing</td>\n",
       "      <td>0</td>\n",
       "      <td>0</td>\n",
       "      <td>0</td>\n",
       "    </tr>\n",
       "    <tr>\n",
       "      <th>2</th>\n",
       "      <td>435962603</td>\n",
       "      <td>Aaron Brown</td>\n",
       "      <td>CAN</td>\n",
       "      <td>male</td>\n",
       "      <td>5/27/92</td>\n",
       "      <td>1.98</td>\n",
       "      <td>79.0</td>\n",
       "      <td>athletics</td>\n",
       "      <td>0</td>\n",
       "      <td>0</td>\n",
       "      <td>1</td>\n",
       "    </tr>\n",
       "    <tr>\n",
       "      <th>3</th>\n",
       "      <td>521041435</td>\n",
       "      <td>Aaron Cook</td>\n",
       "      <td>MDA</td>\n",
       "      <td>male</td>\n",
       "      <td>1/2/91</td>\n",
       "      <td>1.83</td>\n",
       "      <td>80.0</td>\n",
       "      <td>taekwondo</td>\n",
       "      <td>0</td>\n",
       "      <td>0</td>\n",
       "      <td>0</td>\n",
       "    </tr>\n",
       "    <tr>\n",
       "      <th>4</th>\n",
       "      <td>33922579</td>\n",
       "      <td>Aaron Gate</td>\n",
       "      <td>NZL</td>\n",
       "      <td>male</td>\n",
       "      <td>11/26/90</td>\n",
       "      <td>1.81</td>\n",
       "      <td>71.0</td>\n",
       "      <td>cycling</td>\n",
       "      <td>0</td>\n",
       "      <td>0</td>\n",
       "      <td>0</td>\n",
       "    </tr>\n",
       "  </tbody>\n",
       "</table>\n",
       "</div>"
      ],
      "text/plain": [
       "          id            name nationality     sex       dob  height  weight  \\\n",
       "0  736041664  A Jesus Garcia         ESP    male  10/17/69    1.72    64.0   \n",
       "1  532037425      A Lam Shin         KOR  female   9/23/86    1.68    56.0   \n",
       "2  435962603     Aaron Brown         CAN    male   5/27/92    1.98    79.0   \n",
       "3  521041435      Aaron Cook         MDA    male    1/2/91    1.83    80.0   \n",
       "4   33922579      Aaron Gate         NZL    male  11/26/90    1.81    71.0   \n",
       "\n",
       "       sport  gold  silver  bronze  \n",
       "0  athletics     0       0       0  \n",
       "1    fencing     0       0       0  \n",
       "2  athletics     0       0       1  \n",
       "3  taekwondo     0       0       0  \n",
       "4    cycling     0       0       0  "
      ]
     },
     "execution_count": 170,
     "metadata": {},
     "output_type": "execute_result"
    }
   ],
   "source": [
    "data.head()"
   ]
  },
  {
   "cell_type": "code",
   "execution_count": 171,
   "id": "2f49fa45",
   "metadata": {},
   "outputs": [],
   "source": [
    "data = data[ pd.isnull( data['height'] ) == 0 ]\n",
    "data = data[ pd.isnull( data['weight'] ) == 0 ]"
   ]
  },
  {
   "cell_type": "code",
   "execution_count": 172,
   "id": "669cf93b",
   "metadata": {},
   "outputs": [
    {
     "data": {
      "text/html": [
       "<div>\n",
       "<style scoped>\n",
       "    .dataframe tbody tr th:only-of-type {\n",
       "        vertical-align: middle;\n",
       "    }\n",
       "\n",
       "    .dataframe tbody tr th {\n",
       "        vertical-align: top;\n",
       "    }\n",
       "\n",
       "    .dataframe thead th {\n",
       "        text-align: right;\n",
       "    }\n",
       "</style>\n",
       "<table border=\"1\" class=\"dataframe\">\n",
       "  <thead>\n",
       "    <tr style=\"text-align: right;\">\n",
       "      <th></th>\n",
       "      <th>height</th>\n",
       "      <th>weight</th>\n",
       "      <th>gold</th>\n",
       "      <th>silver</th>\n",
       "      <th>bronze</th>\n",
       "    </tr>\n",
       "  </thead>\n",
       "  <tbody>\n",
       "    <tr>\n",
       "      <th>0</th>\n",
       "      <td>1.72</td>\n",
       "      <td>64.0</td>\n",
       "      <td>0</td>\n",
       "      <td>0</td>\n",
       "      <td>0</td>\n",
       "    </tr>\n",
       "    <tr>\n",
       "      <th>1</th>\n",
       "      <td>1.68</td>\n",
       "      <td>56.0</td>\n",
       "      <td>0</td>\n",
       "      <td>0</td>\n",
       "      <td>0</td>\n",
       "    </tr>\n",
       "    <tr>\n",
       "      <th>2</th>\n",
       "      <td>1.98</td>\n",
       "      <td>79.0</td>\n",
       "      <td>0</td>\n",
       "      <td>0</td>\n",
       "      <td>1</td>\n",
       "    </tr>\n",
       "  </tbody>\n",
       "</table>\n",
       "</div>"
      ],
      "text/plain": [
       "   height  weight  gold  silver  bronze\n",
       "0    1.72    64.0     0       0       0\n",
       "1    1.68    56.0     0       0       0\n",
       "2    1.98    79.0     0       0       1"
      ]
     },
     "execution_count": 172,
     "metadata": {},
     "output_type": "execute_result"
    }
   ],
   "source": [
    "X = data[['height', 'weight', 'gold', 'silver', 'bronze']]\n",
    "X.head(3)"
   ]
  },
  {
   "cell_type": "code",
   "execution_count": 173,
   "id": "0a7f801b",
   "metadata": {},
   "outputs": [
    {
     "data": {
      "text/plain": [
       "0    1\n",
       "1    0\n",
       "2    1\n",
       "3    1\n",
       "4    1\n",
       "dtype: int32"
      ]
     },
     "execution_count": 173,
     "metadata": {},
     "output_type": "execute_result"
    }
   ],
   "source": [
    "le = LabelEncoder()\n",
    "le.fit( data['sex'] )\n",
    "y = pd.Series( data = le.transform( data['sex'] ) )\n",
    "y.head()"
   ]
  },
  {
   "cell_type": "markdown",
   "id": "e78f055b",
   "metadata": {},
   "source": [
    "## 2) Разделите выборку на обучающее (80% данных) и тестовое (20% данных) подмножества."
   ]
  },
  {
   "cell_type": "code",
   "execution_count": 174,
   "id": "315fa1d8",
   "metadata": {},
   "outputs": [
    {
     "data": {
      "text/plain": [
       "LogisticRegression()"
      ]
     },
     "execution_count": 174,
     "metadata": {},
     "output_type": "execute_result"
    }
   ],
   "source": [
    "model = LogisticRegression()\n",
    "X_train, X_test, y_train, y_test = train_test_split(X, y, test_size=0.3)\n",
    "model.fit(X_train, y_train)"
   ]
  },
  {
   "cell_type": "markdown",
   "id": "e321ee19",
   "metadata": {},
   "source": [
    "## 3) Постройте ROC-кривую с помощью функции sklearn.metrics. roc_curve."
   ]
  },
  {
   "cell_type": "code",
   "execution_count": 175,
   "id": "ec4e18d5",
   "metadata": {},
   "outputs": [
    {
     "data": {
      "text/plain": [
       "[<matplotlib.lines.Line2D at 0x2105f4b0cd0>]"
      ]
     },
     "execution_count": 175,
     "metadata": {},
     "output_type": "execute_result"
    },
    {
     "data": {
      "image/png": "[encoded data removed]",
      "text/plain": [
       "<Figure size 720x720 with 1 Axes>"
      ]
     },
     "metadata": {
      "needs_background": "light"
     },
     "output_type": "display_data"
    }
   ],
   "source": [
    "predictions = model.predict_proba(X_test)\n",
    "fpr, tpr, thres = roc_curve( y_test, predictions[:, 1])\n",
    "plt.figure(figsize=(10, 10))\n",
    "plt.title(\"ROC\")\n",
    "plt.xlabel(\"FPR\")\n",
    "plt.ylabel(\"TPR\")\n",
    "plt.plot( fpr, tpr )"
   ]
  },
  {
   "cell_type": "markdown",
   "id": "ae7ea44a",
   "metadata": {},
   "source": [
    "## 4) Вычислите значение ROC-AUC метрики с помощью функции sklearn.metrics.roc_auc_score."
   ]
  },
  {
   "cell_type": "code",
   "execution_count": 176,
   "id": "dfce858e",
   "metadata": {},
   "outputs": [
    {
     "data": {
      "text/plain": [
       "0.8542161334188973"
      ]
     },
     "execution_count": 176,
     "metadata": {},
     "output_type": "execute_result"
    }
   ],
   "source": [
    "roc_auc_score(y_test, predictions[:, 1])"
   ]
  },
  {
   "cell_type": "markdown",
   "id": "4b7ddf60",
   "metadata": {},
   "source": [
    "## 5) Реализуйте подсчет метрик TPR, FPR «вручную», без использования готовых функций из библиотеки sklearn.\n",
    "### Я не стал создавать функцию для вычисления непосредственно tpr и fpr, так как для рассчётов в остальных пунктах нужны более примитивные данные типа tp, fp, tn, fn. Всё остальное вычисляется в процессе реализации более сложных задач"
   ]
  },
  {
   "cell_type": "code",
   "execution_count": 177,
   "id": "2ced3584",
   "metadata": {},
   "outputs": [],
   "source": [
    "def metricks(pr, yt):\n",
    "    ans = [0, 0, 0, 0] #tp, fp, tn, fn\n",
    "    for i in range(len(yt)):\n",
    "        if pr[i] == 1:\n",
    "            if yt[i] == 1:\n",
    "                ans[0] += 1\n",
    "            else:\n",
    "                ans[1] += 1\n",
    "        else:\n",
    "            if yt[i] == 1:\n",
    "                ans[3] += 1\n",
    "            else:\n",
    "                ans[2] += 1\n",
    "    return ans"
   ]
  },
  {
   "cell_type": "code",
   "execution_count": 178,
   "id": "34df5954",
   "metadata": {},
   "outputs": [
    {
     "data": {
      "text/plain": [
       "[1419, 326, 1114, 399]"
      ]
     },
     "execution_count": 178,
     "metadata": {},
     "output_type": "execute_result"
    }
   ],
   "source": [
    "y_test1 = y_test.to_numpy()\n",
    "met = metricks(model.predict(X_test), y_test1)\n",
    "met"
   ]
  },
  {
   "cell_type": "code",
   "execution_count": 179,
   "id": "a867a271",
   "metadata": {},
   "outputs": [],
   "source": [
    "def roc_curve1(yt, pr):\n",
    "    fpr = []\n",
    "    tpr = []\n",
    "    cl = np.arange(len(pr))\n",
    "    porog = np.linspace( 0, 1, 1000 )\n",
    "    yt = yt.to_numpy()\n",
    "    for i in range(1000):\n",
    "        for j in range(len(pr)):\n",
    "            if pr[j] > porog[-i - 1]:\n",
    "                cl[j] = 1\n",
    "            else:\n",
    "                cl[j] = 0\n",
    "        ans = metricks(cl, yt)\n",
    "        fpr.append(ans[1] / (ans[1] + ans[2]))\n",
    "        tpr.append(ans[0] / (ans[0] + ans[3]))\n",
    "    return tpr, fpr"
   ]
  },
  {
   "cell_type": "markdown",
   "id": "6fd5ddf7",
   "metadata": {},
   "source": [
    "## 6) Постройте ROC-кривую с помощью вычисленных в п. 5 метрик: объедините графики из п. 3 и п. 6 в один. Сравните, сделайте вывод."
   ]
  },
  {
   "cell_type": "code",
   "execution_count": 180,
   "id": "107daa59",
   "metadata": {},
   "outputs": [
    {
     "data": {
      "image/png": "[encoded data removed]",
      "text/plain": [
       "<Figure size 720x720 with 1 Axes>"
      ]
     },
     "metadata": {
      "needs_background": "light"
     },
     "output_type": "display_data"
    }
   ],
   "source": [
    "tpr1, fpr1 = roc_curve1(y_test, model.predict_proba(X_test)[ : , 1])\n",
    "plt.figure(figsize=(10, 10))\n",
    "plt.title(\"ROCs\")\n",
    "plt.xlabel(\"FPR\")\n",
    "plt.ylabel(\"TPR\")\n",
    "plt.plot(fpr1, tpr1, c = 'gold', linestyle='--', linewidth = 2)\n",
    "plt.plot(fpr, tpr, c = 'black', linestyle='--', linewidth = 2)\n",
    "plt.show()"
   ]
  },
  {
   "cell_type": "markdown",
   "id": "7d0cd200",
   "metadata": {},
   "source": [
    "### При помощи наложения двух графиков друг на друга видно, что работа проделана без ошибок, так как самодельная ROC кривая почти полностью совпадает с ROC кривой, реализованной с помощью SkLearn'a. Есть небольшие отличия, но это скорее всего вызвано различием в количестве итераций(пороговых значений), что не суть важно. "
   ]
  },
  {
   "cell_type": "markdown",
   "id": "5a582549",
   "metadata": {},
   "source": [
    "## 7) Постройте график Precision-Recall, используя метрики, посчитанные в п. 5."
   ]
  },
  {
   "cell_type": "code",
   "execution_count": 181,
   "id": "71c55e8f",
   "metadata": {},
   "outputs": [
    {
     "data": {
      "text/plain": [
       "[<matplotlib.lines.Line2D at 0x210605ea850>]"
      ]
     },
     "execution_count": 181,
     "metadata": {},
     "output_type": "execute_result"
    },
    {
     "data": {
      "image/png": "[encoded data removed]",
      "text/plain": [
       "<Figure size 432x288 with 1 Axes>"
      ]
     },
     "metadata": {
      "needs_background": "light"
     },
     "output_type": "display_data"
    }
   ],
   "source": [
    "def pr(yt, pr):\n",
    "    precision = []\n",
    "    recall = []\n",
    "    cl = np.arange(len(pr))\n",
    "    porog = np.linspace( 0, 1, 1000 )\n",
    "    yt = yt.to_numpy()\n",
    "    for i in range(1000):\n",
    "        for j in range(len(pr)):\n",
    "            if pr[j] > porog[-i - 1]:\n",
    "                cl[j] = 1\n",
    "            else:\n",
    "                cl[j] = 0\n",
    "        ans = metricks(cl, yt)\n",
    "        if (ans[0] + ans[1] != 0) and (ans[0] + ans[3] != 0):\n",
    "            precision.append(ans[0] / (ans[0] + ans[1]))\n",
    "            recall.append(ans[0] / (ans[0] + ans[3]))\n",
    "    return precision, recall\n",
    "precision1, recall1 = pr(y_test, model.predict_proba(X_test)[ : , 1])\n",
    "plt.plot(precision1, recall1)"
   ]
  },
  {
   "cell_type": "markdown",
   "id": "0571bf9b",
   "metadata": {},
   "source": [
    "## 8) *Вычислите значение ROC-AUC метрики, используя метрики, посчитанные в п. 5."
   ]
  },
  {
   "cell_type": "code",
   "execution_count": 182,
   "id": "a7b054e0",
   "metadata": {},
   "outputs": [],
   "source": [
    "def auc1(yt, pr):\n",
    "    total = 0\n",
    "    tpr, fpr = roc_curve1(yt, pr)\n",
    "    for i in range(1, len(tpr)):\n",
    "        if tpr[i] == tpr[i - 1]:\n",
    "            total += tpr[i] * (fpr[i] - fpr[i - 1])\n",
    "        elif tpr[i] > tpr[i - 1]:\n",
    "            total += (tpr[i - 1] + 0.5 * (tpr[i] - tpr[i - 1])) * (fpr[i] - fpr[i - 1])\n",
    "        else:\n",
    "            total += (tpr[i - 1] - 0.5 * (tpr[i] - tpr[i - 1])) * (fpr[i] - fpr[i - 1])\n",
    "    return total"
   ]
  },
  {
   "cell_type": "code",
   "execution_count": 183,
   "id": "c28f3666",
   "metadata": {},
   "outputs": [
    {
     "data": {
      "text/plain": [
       "0.8542119316098276"
      ]
     },
     "execution_count": 183,
     "metadata": {},
     "output_type": "execute_result"
    }
   ],
   "source": [
    "auc1(y_test, predictions[:, 1])"
   ]
  },
  {
   "cell_type": "code",
   "execution_count": null,
   "id": "49b78b85",
   "metadata": {},
   "outputs": [],
   "source": []
  }
 ],
 "metadata": {
  "kernelspec": {
   "display_name": "Python 3 (ipykernel)",
   "language": "python",
   "name": "python3"
  },
  "language_info": {
   "codemirror_mode": {
    "name": "ipython",
    "version": 3
   },
   "file_extension": ".py",
   "mimetype": "text/x-python",
   "name": "python",
   "nbconvert_exporter": "python",
   "pygments_lexer": "ipython3",
   "version": "3.9.7"
  }
 },
 "nbformat": 4,
 "nbformat_minor": 5
}
